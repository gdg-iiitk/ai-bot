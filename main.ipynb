{
 "cells": [
  {
   "cell_type": "markdown",
   "metadata": {},
   "source": [
    "# IIITK.ai (AI chatbot)\n",
    "\n",
    "This notebook demonstrates how to create a simple chat application using Google's Gemini AI model.\n",
    "\n",
    "## Setup and Configuration\n",
    "First, we'll import the required libraries and set up our configuration."
   ]
  },
  {
   "cell_type": "code",
   "execution_count": null,
   "metadata": {},
   "outputs": [],
   "source": [
    "import configparser\n",
    "import sys\n",
    "import google.generativeai as genai\n",
    "\n",
    "# Read API key from configuration file\n",
    "config = configparser.ConfigParser()\n",
    "config.read(\"cred.cfg\")\n",
    "\n",
    "try:\n",
    "    API_KEY = config[\"key\"][\"api\"]\n",
    "except KeyError as e:\n",
    "    print(e)\n",
    "    sys.exit(1)"
   ]
  },
  {
   "cell_type": "markdown",
   "metadata": {},
   "source": [
    "## Model Configuration\n",
    "Now we'll configure the Gemini AI model with specific parameters for generation."
   ]
  },
  {
   "cell_type": "code",
   "execution_count": null,
   "metadata": {},
   "outputs": [],
   "source": [
    "# Configure the API\n",
    "genai.configure(api_key=API_KEY)\n",
    "\n",
    "# Set up generation parameters\n",
    "generation_config = {\n",
    "    \"temperature\": 1,        # Controls randomness (1 is more creative)\n",
    "    \"top_p\": 0.95,          # Nucleus sampling parameter\n",
    "    \"top_k\": 40,            # Top-k sampling parameter\n",
    "    \"max_output_tokens\": 8192,  # Maximum length of response\n",
    "    \"response_mime_type\": \"text/plain\",\n",
    "}\n",
    "\n",
    "# Initialize the model\n",
    "model = genai.GenerativeModel(\n",
    "    model_name=\"gemini-1.5-pro\",\n",
    "    generation_config=generation_config,\n",
    ")"
   ]
  },
  {
   "cell_type": "markdown",
   "metadata": {},
   "source": [
    "## Chat Session Setup\n",
    "Initialize a chat session with a specific context for handling terminal output analysis."
   ]
  },
  {
   "cell_type": "code",
   "execution_count": null,
   "metadata": {},
   "outputs": [],
   "source": [
    "# Start a chat session with initial context\n",
    "chat_session = model.start_chat(\n",
    "    history=[\n",
    "        {\n",
    "            \"role\": \"user\",\n",
    "            \"parts\": [\n",
    "                \"I will provide you with the standard output from terminal code executions. Please explain the error, identify its cause, and suggest a solution to fix it\",\n",
    "            ],\n",
    "        },\n",
    "        {\n",
    "            \"role\": \"model\",\n",
    "            \"parts\": [\n",
    "                \"Okay, I'm ready. Please provide the output. The more context you can give me (the code you ran, the operating system, etc.), the better I can help.\\n\",\n",
    "            ],\n",
    "        },\n",
    "    ]\n",
    ")"
   ]
  },
  {
   "cell_type": "markdown",
   "metadata": {},
   "source": [
    "## Interactive Chat\n",
    "Get user input and receive model responses."
   ]
  },
  {
   "cell_type": "code",
   "execution_count": null,
   "metadata": {},
   "outputs": [],
   "source": [
    "# Get user input and generate response\n",
    "prompt = input(\"Enter your prompt: \")\n",
    "response = chat_session.send_message(prompt)\n",
    "print(response.text)"
   ]
  }
 ],
 "metadata": {
  "kernelspec": {
   "display_name": "Python 3",
   "language": "python",
   "name": "python3"
  },
  "language_info": {
   "name": "python",
   "version": "3.12.5"
  }
 },
 "nbformat": 4,
 "nbformat_minor": 2
}
