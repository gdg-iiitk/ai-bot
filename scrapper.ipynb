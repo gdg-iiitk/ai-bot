{
 "cells": [
  {
   "cell_type": "markdown",
   "metadata": {},
   "source": [
    "# Web Scraping Tutorial\n",
    "\n",
    "This notebook demonstrates how to use our modular web scraping library to:\n",
    "1. Map all endpoints of a website\n",
    "2. Scrape content by tags, classes, and IDs\n",
    "3. Save scraped data to files\n",
    "\n",
    "## Setup\n",
    "First, let's import our scraping modules and set up the base URL."
   ]
  },
  {
   "cell_type": "code",
   "execution_count": null,
   "metadata": {},
   "outputs": [],
   "source": [
    "from scrapper import WebScraper, SiteMapper\n",
    "\n",
    "# Configure your target website here\n",
    "BASE_URL = \"https://example.com\"  # Replace with your target website\n",
    "scraper = WebScraper(BASE_URL)\n",
    "mapper = SiteMapper(scraper)"
   ]
  },
  {
   "cell_type": "markdown",
   "metadata": {},
   "source": [
    "## 1. Mapping Website Endpoints\n",
    "\n",
    "Let's discover all accessible endpoints on the website."
   ]
  },
  {
   "cell_type": "code",
   "execution_count": null,
   "metadata": {},
   "outputs": [],
   "source": [
    "# Map the site with a depth of 2 levels\n",
    "endpoints = mapper.map_site(\"/\", max_depth=2)\n",
    "print(\"Discovered endpoints:\")\n",
    "for endpoint in endpoints:\n",
    "    print(f\"- {endpoint}\")"
   ]
  },
  {
   "cell_type": "markdown",
   "metadata": {},
   "source": [
    "## 2. Scraping by HTML Tags\n",
    "\n",
    "Demonstrate how to scrape specific HTML tags from a page."
   ]
  },
  {
   "cell_type": "code",
   "execution_count": null,
   "metadata": {},
   "outputs": [],
   "source": [
    "def scrape_tags_from_endpoint(endpoint, tag):\n",
    "    print(f\"Scraping {tag} tags from {endpoint}\")\n",
    "    content = scraper.scrape_by_tag(tag, endpoint)\n",
    "    return content\n",
    "\n",
    "# Example: Scrape all paragraphs from the home page\n",
    "paragraphs = scrape_tags_from_endpoint(\"/\", \"p\")\n",
    "print(f\"Found {len(paragraphs)} paragraphs\")\n",
    "for i, p in enumerate(paragraphs[:3], 1):\n",
    "    print(f\"\\nParagraph {i}:\\n{p}\")"
   ]
  },
  {
   "cell_type": "markdown",
   "metadata": {},
   "source": [
    "## 3. Scraping by Class Names\n",
    "\n",
    "Extract content from elements with specific class names."
   ]
  },
  {
   "cell_type": "code",
   "execution_count": null,
   "metadata": {},
   "outputs": [],
   "source": [
    "def scrape_class_from_endpoint(endpoint, class_name):\n",
    "    print(f\"Scraping elements with class '{class_name}' from {endpoint}\")\n",
    "    content = scraper.scrape_by_class(class_name, endpoint)\n",
    "    return content\n",
    "\n",
    "# Example: Scrape elements with class 'content'\n",
    "class_content = scrape_class_from_endpoint(\"/\", \"content\")\n",
    "print(f\"\\nFound {len(class_content)} elements\")\n",
    "for i, content in enumerate(class_content[:3], 1):\n",
    "    print(f\"\\nContent {i}:\\n{content}\")"
   ]
  },
  {
   "cell_type": "markdown",
   "metadata": {},
   "source": [
    "## 4. Saving Scraped Data\n",
    "\n",
    "Demonstrate how to save scraped content to files."
   ]
  },
  {
   "cell_type": "code",
   "execution_count": null,
   "metadata": {},
   "outputs": [],
   "source": [
    "def save_scraped_content(content, filename):\n",
    "    scraper.save_to_file(content, filename)\n",
    "\n",
    "# Example: Save scraped paragraphs\n",
    "save_scraped_content(paragraphs, \"paragraphs.txt\")\n",
    "\n",
    "# Example: Save content by class\n",
    "save_scraped_content(class_content, \"class_content.txt\")"
   ]
  },
  {
   "cell_type": "markdown",
   "metadata": {},
   "source": [
    "## 5. Complete Scraping Pipeline\n",
    "\n",
    "Put everything together in a complete scraping pipeline."
   ]
  },
  {
   "cell_type": "code",
   "execution_count": null,
   "metadata": {},
   "outputs": [],
   "source": [
    "def scrape_full_site(base_url, max_depth=2):\n",
    "    # Initialize scrapers\n",
    "    scraper = WebScraper(base_url)\n",
    "    mapper = SiteMapper(scraper)\n",
    "    \n",
    "    # Get all endpoints\n",
    "    print(\"Mapping site...\")\n",
    "    endpoints = mapper.map_site(\"/\", max_depth=max_depth)\n",
    "    \n",
    "    # Scrape each endpoint\n",
    "    for endpoint in endpoints:\n",
    "        print(f\"\\nScraping endpoint: {endpoint}\")\n",
    "        \n",
    "        # Scrape paragraphs\n",
    "        paragraphs = scraper.scrape_by_tag(\"p\", endpoint)\n",
    "        save_scraped_content(paragraphs, f\"data/paragraphs_{endpoint.replace('/', '_')}.txt\")\n",
    "        \n",
    "        # Scrape content class\n",
    "        content = scraper.scrape_by_class(\"content\", endpoint)\n",
    "        save_scraped_content(content, f\"data/content_{endpoint.replace('/', '_')}.txt\")\n",
    "        \n",
    "        # Scrape main content\n",
    "        main_content = scraper.scrape_by_id(\"main\", endpoint)\n",
    "        save_scraped_content(main_content, f\"data/main_{endpoint.replace('/', '_')}.txt\")\n",
    "\n",
    "# Example usage\n",
    "if not os.path.exists('data'):\n",
    "    os.makedirs('data')\n",
    "\n",
    "scrape_full_site(BASE_URL, max_depth=2)"
   ]
  }
 ],
 "metadata": {
  "kernelspec": {
   "display_name": "Python 3",
   "language": "python",
   "name": "python3"
  }
 },
 "nbformat": 4,
 "nbformat_minor": 2
}
