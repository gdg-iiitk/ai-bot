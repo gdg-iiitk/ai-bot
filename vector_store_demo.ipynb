{
 "cells": [
  {
   "cell_type": "markdown",
   "metadata": {},
   "source": [
    "# Vector Store Management Demo\n",
    "\n",
    "This notebook demonstrates the usage of the VectorStoreManager class for managing document embeddings."
   ]
  },
  {
   "cell_type": "code",
   "execution_count": null,
   "metadata": {},
   "outputs": [],
   "source": [
    "from vdb_management import VectorStoreManager\n",
    "\n",
    "# Initialize the vector store manager\n",
    "vector_store = VectorStoreManager(persist_directory=\"test_db\")\n",
    "print(\"Vector store initialized!\")"
   ]
  },
  {
   "cell_type": "markdown",
   "metadata": {},
   "source": [
    "## Adding Files to the Vector Store"
   ]
  },
  {
   "cell_type": "code",
   "execution_count": null,
   "metadata": {},
   "outputs": [],
   "source": [
    "# Add a single file\n",
    "result = vector_store.add_file(\"./data/sample.txt\")\n",
    "print(\"Single file addition result:\", result)\n",
    "\n",
    "# Add multiple files\n",
    "files_to_add = [\n",
    "    \"./data/mess_menu.txt\",\n",
    "    \"./data/inst_calender.txt\"\n",
    "]\n",
    "results = vector_store.bulk_add_files(files_to_add)\n",
    "print(\"\\nBulk addition results:\")\n",
    "for file, result in results.items():\n",
    "    print(f\"{file}: {result}\")"
   ]
  },
  {
   "cell_type": "markdown",
   "metadata": {},
   "source": [
    "## Listing Files in the Vector Store"
   ]
  },
  {
   "cell_type": "code",
   "execution_count": null,
   "metadata": {},
   "outputs": [],
   "source": [
    "# List files (simple)\n",
    "files = vector_store.list_files()\n",
    "print(\"Files in vector store:\")\n",
    "for file in files:\n",
    "    print(f\"- {file}\")\n",
    "\n",
    "# List files with details\n",
    "detailed_files = vector_store.list_files(detailed=True)\n",
    "print(\"\\nDetailed file information:\")\n",
    "for path, info in detailed_files.items():\n",
    "    print(f\"\\nFile: {path}\")\n",
    "    print(f\"Name: {info['file_name']}\")\n",
    "    print(f\"Chunks: {info['chunk_count']}\")\n",
    "    print(f\"Added: {info['added_date']}\")"
   ]
  },
  {
   "cell_type": "markdown",
   "metadata": {},
   "source": [
    "## Searching Similar Content"
   ]
  },
  {
   "cell_type": "code",
   "execution_count": null,
   "metadata": {},
   "outputs": [],
   "source": [
    "# Search for similar content\n",
    "query = \"What's on the mess menu for lunch?\"\n",
    "results = vector_store.search_similar(query, k=3)\n",
    "\n",
    "print(f\"Search results for: '{query}'\\n\")\n",
    "for i, result in enumerate(results, 1):\n",
    "    print(f\"Result {i}:\")\n",
    "    print(f\"Content: {result['content'][:200]}...\")\n",
    "    print(f\"Metadata: {result['metadata']}\")\n",
    "    print(f\"Similarity: {result['similarity']}\\n\")"
   ]
  },
  {
   "cell_type": "markdown",
   "metadata": {},
   "source": [
    "## Collection Statistics"
   ]
  },
  {
   "cell_type": "code",
   "execution_count": null,
   "metadata": {},
   "outputs": [],
   "source": [
    "# Get collection stats\n",
    "stats = vector_store.get_collection_stats()\n",
    "print(f\"Total documents: {stats['total_documents']}\")\n",
    "print(f\"Total files: {stats['total_files']}\")\n",
    "print(\"\\nFiles in collection:\")\n",
    "for path, info in stats['files'].items():\n",
    "    print(f\"\\n{info['file_name']}:\")\n",
    "    print(f\"- Chunks: {info['chunk_count']}\")\n",
    "    print(f\"- Added: {info['added_date']}\")"
   ]
  },
  {
   "cell_type": "markdown",
   "metadata": {},
   "source": [
    "## Removing Files"
   ]
  },
  {
   "cell_type": "code",
   "execution_count": null,
   "metadata": {},
   "outputs": [],
   "source": [
    "# Remove a file\n",
    "file_to_remove = \"./data/sample.txt\"\n",
    "result = vector_store.remove_file(file_to_remove)\n",
    "print(f\"Removal result: {result}\")"
   ]
  },
  {
   "cell_type": "markdown",
   "metadata": {},
   "source": [
    "## Initialize from Directory"
   ]
  },
  {
   "cell_type": "code",
   "execution_count": null,
   "metadata": {},
   "outputs": [],
   "source": [
    "# Initialize from a directory\n",
    "results = vector_store.initialize_from_directory(\"./data\", glob_pattern=\"**/*.txt\")\n",
    "print(\"Directory initialization results:\")\n",
    "for file, result in results.items():\n",
    "    print(f\"{file}: {result}\")"
   ]
  },
  {
   "cell_type": "markdown",
   "metadata": {},
   "source": [
    "## Cleanup (Optional)"
   ]
  },
  {
   "cell_type": "code",
   "execution_count": null,
   "metadata": {},
   "outputs": [],
   "source": [
    "# Clear the database (use with caution)\n",
    "# result = vector_store.clear_database()\n",
    "# print(f\"Database cleanup result: {result}\")"
   ]
  }
 ],
 "metadata": {
  "kernelspec": {
   "display_name": "Python 3",
   "language": "python",
   "name": "python3"
  },
  "language_info": {
   "name": "python",
   "version": "3.8"
  }
 },
 "nbformat": 4,
 "nbformat_minor": 2
}
