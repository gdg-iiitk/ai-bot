{
 "cells": [
  {
   "cell_type": "markdown",
   "metadata": {},
   "source": [
    "# Vector Store Management Demo\n",
    "\n",
    "This notebook demonstrates the usage of the VectorStoreManager class for managing document embeddings."
   ]
  },
  {
   "cell_type": "code",
   "execution_count": 1,
   "metadata": {},
   "outputs": [
    {
     "name": "stderr",
     "output_type": "stream",
     "text": [
      "c:\\Users\\noelm\\AppData\\Local\\Programs\\Python\\Python312\\Lib\\site-packages\\tqdm\\auto.py:21: TqdmWarning: IProgress not found. Please update jupyter and ipywidgets. See https://ipywidgets.readthedocs.io/en/stable/user_install.html\n",
      "  from .autonotebook import tqdm as notebook_tqdm\n",
      "c:\\Noeland\\codialo\\ai-bot\\vdb_management.py:20: LangChainDeprecationWarning: The class `Chroma` was deprecated in LangChain 0.2.9 and will be removed in 1.0. An updated version of the class exists in the :class:`~langchain-chroma package and should be used instead. To use it run `pip install -U :class:`~langchain-chroma` and import as `from :class:`~langchain_chroma import Chroma``.\n",
      "  self.vectorstore = Chroma(\n"
     ]
    },
    {
     "name": "stdout",
     "output_type": "stream",
     "text": [
      "Vector store initialized!\n"
     ]
    }
   ],
   "source": [
    "from vdb_management import VectorStoreManager\n",
    "\n",
    "# Initialize the vector store manager\n",
    "vector_store = VectorStoreManager(persist_directory=\"test_db\")\n",
    "print(\"Vector store initialized!\")"
   ]
  },
  {
   "cell_type": "markdown",
   "metadata": {},
   "source": [
    "## Adding Files to the Vector Store"
   ]
  },
  {
   "cell_type": "code",
   "execution_count": 2,
   "metadata": {},
   "outputs": [
    {
     "name": "stdout",
     "output_type": "stream",
     "text": [
      "Single file addition result: Error adding file: Error embedding content: 403 Request had insufficient authentication scopes. [reason: \"ACCESS_TOKEN_SCOPE_INSUFFICIENT\"\n",
      "domain: \"googleapis.com\"\n",
      "metadata {\n",
      "  key: \"service\"\n",
      "  value: \"generativelanguage.googleapis.com\"\n",
      "}\n",
      "metadata {\n",
      "  key: \"method\"\n",
      "  value: \"google.ai.generativelanguage.v1beta.GenerativeService.BatchEmbedContents\"\n",
      "}\n",
      "]\n"
     ]
    }
   ],
   "source": [
    "# Add a single file\n",
    "result = vector_store.add_file(\"./data/mess_menu.txt\")\n",
    "print(\"Single file addition result:\", result)"
   ]
  },
  {
   "cell_type": "markdown",
   "metadata": {},
   "source": [
    "### Add multiple files"
   ]
  },
  {
   "cell_type": "code",
   "execution_count": null,
   "metadata": {},
   "outputs": [],
   "source": [
    "files_to_add = [\n",
    "    \"./data/mess_menu.txt\",\n",
    "    \"./data/inst_calender.txt\"\n",
    "]\n",
    "results = vector_store.bulk_add_files(files_to_add)\n",
    "print(\"\\nBulk addition results:\")\n",
    "for file, result in results.items():\n",
    "    print(f\"{file}: {result}\")"
   ]
  },
  {
   "cell_type": "markdown",
   "metadata": {},
   "source": [
    "## Listing Files in the Vector Store"
   ]
  },
  {
   "cell_type": "code",
   "execution_count": null,
   "metadata": {},
   "outputs": [],
   "source": [
    "# List files (simple)\n",
    "files = vector_store.list_files()\n",
    "print(\"Files in vector store:\")\n",
    "for file in files:\n",
    "    print(f\"- {file}\")\n",
    "\n",
    "# List files with details\n",
    "detailed_files = vector_store.list_files(detailed=True)\n",
    "print(\"\\nDetailed file information:\")\n",
    "for path, info in detailed_files.items():\n",
    "    print(f\"\\nFile: {path}\")\n",
    "    print(f\"Name: {info['file_name']}\")\n",
    "    print(f\"Chunks: {info['chunk_count']}\")\n",
    "    print(f\"Added: {info['added_date']}\")"
   ]
  },
  {
   "cell_type": "markdown",
   "metadata": {},
   "source": [
    "## Searching Similar Content"
   ]
  },
  {
   "cell_type": "code",
   "execution_count": null,
   "metadata": {},
   "outputs": [],
   "source": [
    "# Search for similar content\n",
    "query = \"What's on the mess menu for lunch?\"\n",
    "results = vector_store.search_similar(query, k=3)\n",
    "\n",
    "print(f\"Search results for: '{query}'\\n\")\n",
    "for i, result in enumerate(results, 1):\n",
    "    print(f\"Result {i}:\")\n",
    "    print(f\"Content: {result['content'][:200]}...\")\n",
    "    print(f\"Metadata: {result['metadata']}\")\n",
    "    print(f\"Similarity: {result['similarity']}\\n\")"
   ]
  },
  {
   "cell_type": "markdown",
   "metadata": {},
   "source": [
    "## Collection Statistics"
   ]
  },
  {
   "cell_type": "code",
   "execution_count": null,
   "metadata": {},
   "outputs": [],
   "source": [
    "# Get collection stats\n",
    "stats = vector_store.get_collection_stats()\n",
    "print(f\"Total documents: {stats['total_documents']}\")\n",
    "print(f\"Total files: {stats['total_files']}\")\n",
    "print(\"\\nFiles in collection:\")\n",
    "for path, info in stats['files'].items():\n",
    "    print(f\"\\n{info['file_name']}:\")\n",
    "    print(f\"- Chunks: {info['chunk_count']}\")\n",
    "    print(f\"- Added: {info['added_date']}\")"
   ]
  },
  {
   "cell_type": "markdown",
   "metadata": {},
   "source": [
    "## Removing Files"
   ]
  },
  {
   "cell_type": "code",
   "execution_count": null,
   "metadata": {},
   "outputs": [],
   "source": [
    "# Remove a file\n",
    "file_to_remove = \"./data/sample.txt\"\n",
    "result = vector_store.remove_file(file_to_remove)\n",
    "print(f\"Removal result: {result}\")"
   ]
  },
  {
   "cell_type": "markdown",
   "metadata": {},
   "source": [
    "## Initialize from Directory"
   ]
  },
  {
   "cell_type": "code",
   "execution_count": null,
   "metadata": {},
   "outputs": [],
   "source": [
    "# Initialize from a directory\n",
    "results = vector_store.initialize_from_directory(\"./data\", glob_pattern=\"**/*.txt\")\n",
    "print(\"Directory initialization results:\")\n",
    "for file, result in results.items():\n",
    "    print(f\"{file}: {result}\")"
   ]
  },
  {
   "cell_type": "markdown",
   "metadata": {},
   "source": [
    "## Cleanup (Optional)"
   ]
  },
  {
   "cell_type": "code",
   "execution_count": null,
   "metadata": {},
   "outputs": [],
   "source": [
    "# Clear the database (use with caution)\n",
    "# result = vector_store.clear_database()\n",
    "# print(f\"Database cleanup result: {result}\")"
   ]
  }
 ],
 "metadata": {
  "kernelspec": {
   "display_name": "Python 3",
   "language": "python",
   "name": "python3"
  },
  "language_info": {
   "codemirror_mode": {
    "name": "ipython",
    "version": 3
   },
   "file_extension": ".py",
   "mimetype": "text/x-python",
   "name": "python",
   "nbconvert_exporter": "python",
   "pygments_lexer": "ipython3",
   "version": "3.12.5"
  }
 },
 "nbformat": 4,
 "nbformat_minor": 2
}
